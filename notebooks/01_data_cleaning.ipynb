{
 "cells": [
  {
   "cell_type": "markdown",
   "id": "9118463c-23f1-465e-a496-13a7c3ae8ef9",
   "metadata": {},
   "source": [
    "# Data Cleaning"
   ]
  },
  {
   "cell_type": "code",
   "execution_count": 2,
   "id": "2707b2c1-7420-4642-914a-966999b05324",
   "metadata": {},
   "outputs": [],
   "source": [
    "# imports\n",
    "import pandas as pd\n",
    "import numpy as np\n",
    "import matplotlib.pyplot as plt\n",
    "import seaborn as sns\n",
    "import numpy as np\n",
    "import datetime as dt\n",
    "import calendar\n",
    "\n",
    "# increasing max column display in Pandas\n",
    "pd.set_option('display.max_columns', 54)"
   ]
  },
  {
   "cell_type": "code",
   "execution_count": 3,
   "id": "2dc891a8-e057-4ec5-aee6-4e67e09dff92",
   "metadata": {},
   "outputs": [],
   "source": [
    "# reading in the supply chain csv-\n",
    "df = pd.read_csv('../data/DataCoSupplyChainDataset.csv', encoding= 'unicode_escape', parse_dates = ['order date (DateOrders)', 'shipping date (DateOrders)'])"
   ]
  },
  {
   "cell_type": "code",
   "execution_count": 4,
   "id": "04f03421-e059-4254-ba8a-6dd3b54c8798",
   "metadata": {},
   "outputs": [
    {
     "data": {
      "text/plain": [
       "(180519, 53)"
      ]
     },
     "execution_count": 4,
     "metadata": {},
     "output_type": "execute_result"
    }
   ],
   "source": [
    "# checking the shape of the data\n",
    "df.shape"
   ]
  },
  {
   "cell_type": "code",
   "execution_count": 5,
   "id": "da3e04ed-941b-47f9-bec2-c255972e9037",
   "metadata": {},
   "outputs": [
    {
     "data": {
      "text/plain": [
       "Type                                  0\n",
       "Days for shipping (real)              0\n",
       "Days for shipment (scheduled)         0\n",
       "Benefit per order                     0\n",
       "Sales per customer                    0\n",
       "Delivery Status                       0\n",
       "Late_delivery_risk                    0\n",
       "Category Id                           0\n",
       "Category Name                         0\n",
       "Customer City                         0\n",
       "Customer Country                      0\n",
       "Customer Email                        0\n",
       "Customer Fname                        0\n",
       "Customer Id                           0\n",
       "Customer Lname                        8\n",
       "Customer Password                     0\n",
       "Customer Segment                      0\n",
       "Customer State                        0\n",
       "Customer Street                       0\n",
       "Customer Zipcode                      3\n",
       "Department Id                         0\n",
       "Department Name                       0\n",
       "Latitude                              0\n",
       "Longitude                             0\n",
       "Market                                0\n",
       "Order City                            0\n",
       "Order Country                         0\n",
       "Order Customer Id                     0\n",
       "order date (DateOrders)               0\n",
       "Order Id                              0\n",
       "Order Item Cardprod Id                0\n",
       "Order Item Discount                   0\n",
       "Order Item Discount Rate              0\n",
       "Order Item Id                         0\n",
       "Order Item Product Price              0\n",
       "Order Item Profit Ratio               0\n",
       "Order Item Quantity                   0\n",
       "Sales                                 0\n",
       "Order Item Total                      0\n",
       "Order Profit Per Order                0\n",
       "Order Region                          0\n",
       "Order State                           0\n",
       "Order Status                          0\n",
       "Order Zipcode                    155679\n",
       "Product Card Id                       0\n",
       "Product Category Id                   0\n",
       "Product Description              180519\n",
       "Product Image                         0\n",
       "Product Name                          0\n",
       "Product Price                         0\n",
       "Product Status                        0\n",
       "shipping date (DateOrders)            0\n",
       "Shipping Mode                         0\n",
       "dtype: int64"
      ]
     },
     "execution_count": 5,
     "metadata": {},
     "output_type": "execute_result"
    }
   ],
   "source": [
    "# checking for missing values-\n",
    "df.isnull().sum()"
   ]
  },
  {
   "cell_type": "code",
   "execution_count": 6,
   "id": "c793b2c1-54a7-4d47-b479-6ade7ba35b5a",
   "metadata": {},
   "outputs": [],
   "source": [
    "# product description and Zip code have too many null values to be useful. These cannot be imputed and will be dropped. \n",
    "# Remaining null values are not impactful- \n",
    "df.drop(columns = ['Order Zipcode', 'Product Description'], inplace = True)\n",
    "pass"
   ]
  },
  {
   "cell_type": "code",
   "execution_count": 7,
   "id": "5ab99db2-64fe-4c74-be2d-8a1df5e95631",
   "metadata": {},
   "outputs": [],
   "source": [
    "# dropping the following customer fields as they are not value add and in some cases cause privacy concerns-\n",
    "df.drop(columns = ['Customer Email', 'Customer Fname', 'Customer Lname', 'Customer Password', 'Customer Street', 'Customer Country'], inplace = True)\n",
    "pass"
   ]
  },
  {
   "cell_type": "code",
   "execution_count": 8,
   "id": "cd9fdd06-eaee-4af2-bee3-3020243f03c5",
   "metadata": {},
   "outputs": [],
   "source": [
    "# dropping unecessary department features-\n",
    "df.drop(columns = ['Department Id'], inplace = True)"
   ]
  },
  {
   "cell_type": "code",
   "execution_count": 9,
   "id": "ebfed791-3b35-488d-897a-4a2c9115ec6b",
   "metadata": {},
   "outputs": [],
   "source": [
    "# dropping unnecessary order features-\n",
    "df.drop(columns = ['Order Customer Id', 'Order Item Discount', 'Order Item Cardprod Id', 'Order Item Id', 'Sales',\n",
    "                   'Sales per customer', 'Order Item Total', 'Order Profit Per Order', 'Order Item Product Price', 'Benefit per order'], inplace = True)"
   ]
  },
  {
   "cell_type": "code",
   "execution_count": 10,
   "id": "bbf9a82b-874f-4593-b0d1-cca3e46d4ced",
   "metadata": {},
   "outputs": [],
   "source": [
    "# dropping unnecessary product features-\n",
    "df.drop(columns = ['Product Category Id', 'Product Image', 'Product Status'], inplace = True)"
   ]
  },
  {
   "cell_type": "code",
   "execution_count": 11,
   "id": "eaa57939-0851-4129-803f-b4b0ee3cbe91",
   "metadata": {},
   "outputs": [],
   "source": [
    "# renaming columns to be more sensible-\n",
    "df.rename(columns = {'order date (DateOrders)': 'order date', 'shipping date (DateOrders)': 'shipping date',\n",
    "                     'Days for shipping (real)': 'actual ship days', 'Days for shipment (scheduled)': 'estimated ship days'}, inplace = True)"
   ]
  },
  {
   "cell_type": "code",
   "execution_count": 12,
   "id": "8eedefc0-e32a-4ece-a4e6-64bfd39fe080",
   "metadata": {},
   "outputs": [],
   "source": [
    "# updating column names to be lower and snake case-\n",
    "\n",
    "df.columns= df.columns.str.lower()\n",
    "df.columns= df.columns.str.replace(' ', '_')"
   ]
  },
  {
   "cell_type": "code",
   "execution_count": 13,
   "id": "74e807c0-bab3-40c0-882a-3dd825ff1951",
   "metadata": {},
   "outputs": [
    {
     "name": "stdout",
     "output_type": "stream",
     "text": [
      "<class 'pandas.core.frame.DataFrame'>\n",
      "RangeIndex: 180519 entries, 0 to 180518\n",
      "Data columns (total 31 columns):\n",
      " #   Column                    Non-Null Count   Dtype         \n",
      "---  ------                    --------------   -----         \n",
      " 0   type                      180519 non-null  object        \n",
      " 1   actual_ship_days          180519 non-null  int64         \n",
      " 2   estimated_ship_days       180519 non-null  int64         \n",
      " 3   delivery_status           180519 non-null  object        \n",
      " 4   late_delivery_risk        180519 non-null  int64         \n",
      " 5   category_id               180519 non-null  int64         \n",
      " 6   category_name             180519 non-null  object        \n",
      " 7   customer_city             180519 non-null  object        \n",
      " 8   customer_id               180519 non-null  int64         \n",
      " 9   customer_segment          180519 non-null  object        \n",
      " 10  customer_state            180519 non-null  object        \n",
      " 11  customer_zipcode          180516 non-null  float64       \n",
      " 12  department_name           180519 non-null  object        \n",
      " 13  latitude                  180519 non-null  float64       \n",
      " 14  longitude                 180519 non-null  float64       \n",
      " 15  market                    180519 non-null  object        \n",
      " 16  order_city                180519 non-null  object        \n",
      " 17  order_country             180519 non-null  object        \n",
      " 18  order_date                180519 non-null  datetime64[ns]\n",
      " 19  order_id                  180519 non-null  int64         \n",
      " 20  order_item_discount_rate  180519 non-null  float64       \n",
      " 21  order_item_profit_ratio   180519 non-null  float64       \n",
      " 22  order_item_quantity       180519 non-null  int64         \n",
      " 23  order_region              180519 non-null  object        \n",
      " 24  order_state               180519 non-null  object        \n",
      " 25  order_status              180519 non-null  object        \n",
      " 26  product_card_id           180519 non-null  int64         \n",
      " 27  product_name              180519 non-null  object        \n",
      " 28  product_price             180519 non-null  float64       \n",
      " 29  shipping_date             180519 non-null  datetime64[ns]\n",
      " 30  shipping_mode             180519 non-null  object        \n",
      "dtypes: datetime64[ns](2), float64(6), int64(8), object(15)\n",
      "memory usage: 42.7+ MB\n"
     ]
    }
   ],
   "source": [
    "df.info()"
   ]
  },
  {
   "cell_type": "code",
   "execution_count": 14,
   "id": "8982950f-e136-4d7f-827f-313124c753f7",
   "metadata": {},
   "outputs": [],
   "source": [
    "# converting order and ship date columns to a datetime dtype-\n",
    "df['order_date']= pd.to_datetime(df['order_date'])\n",
    "df['shipping_date']= pd.to_datetime(df['shipping_date'])"
   ]
  },
  {
   "cell_type": "code",
   "execution_count": 15,
   "id": "f576cc57-cc83-4ee3-a767-a8180ff71cc9",
   "metadata": {},
   "outputs": [],
   "source": [
    "# creating a ship performance metric which factors actual shipping days vs estimated-\n",
    "df['ship_performance'] = df['actual_ship_days'] - df['estimated_ship_days']"
   ]
  },
  {
   "cell_type": "code",
   "execution_count": 16,
   "id": "d8e7d08c-3b5c-47e6-bfc9-c9634d68e27c",
   "metadata": {},
   "outputs": [],
   "source": [
    "# creating an ontime column. 0 = shipment was late, 1 = shipment arrived on or before estimated delivery date-\n",
    "df['ontime'] = np.where(df['ship_performance'] < 1, 1 , 0)"
   ]
  },
  {
   "cell_type": "code",
   "execution_count": 17,
   "id": "ea1087bb-4fc5-4602-b2d3-f6d199ecf090",
   "metadata": {},
   "outputs": [],
   "source": [
    "# creating an is_fraud column based on whether the 'order status' is 'SUSPECTED_FRAUD'-\n",
    "df['is_fraud'] = np.where(df['order_status'] == 'SUSPECTED_FRAUD', 1, 0,)"
   ]
  },
  {
   "cell_type": "code",
   "execution_count": 18,
   "id": "a66dc011-9ef5-4f25-b670-82e63e504a0e",
   "metadata": {},
   "outputs": [],
   "source": [
    "# creating order_hour column extrapolated from the order_date datetime info-\n",
    "df['order_hour'] = df['order_date'].dt.hour"
   ]
  },
  {
   "cell_type": "code",
   "execution_count": 19,
   "id": "addc3a85-13a3-4357-90cf-d8e24990bf0e",
   "metadata": {},
   "outputs": [],
   "source": [
    "# creating binary order_before_noon column extrapolated from the order_hour info, marking whether it was\n",
    "# placed before (1) or after (0) 12pm-\n",
    "df['order_before_noon'] = np.where(df['order_hour'] < 12, 1, 0)"
   ]
  },
  {
   "cell_type": "code",
   "execution_count": 20,
   "id": "7f76d3e4-05ad-44e2-be67-7c367f52c947",
   "metadata": {},
   "outputs": [],
   "source": [
    "# creating order_month column extrapolated from the order_date datetime info, returns a numeric 1 thru 12-\n",
    "df['order_month'] = pd.DatetimeIndex(df['order_date']).month"
   ]
  },
  {
   "cell_type": "code",
   "execution_count": 21,
   "id": "59ea0003-5d17-4c86-a6ff-49731ea51700",
   "metadata": {},
   "outputs": [],
   "source": [
    "# creating order_month_name column extrapolated from the order_month info, returns an abbreviated month name\n",
    "# for future use as a categorical variable-\n",
    "df['order_month_name'] = df['order_month'].apply(lambda x: calendar.month_abbr[x])"
   ]
  },
  {
   "cell_type": "code",
   "execution_count": 22,
   "id": "d06a224d-98d0-45dc-b0df-887468887c82",
   "metadata": {},
   "outputs": [],
   "source": [
    "# creating order_weekday column extrapolated from the order_date info, returns a numeric code 0 thru 6\n",
    "# (Monday thru Sunday)-\n",
    "df['order_weekday'] = pd.DatetimeIndex(df['order_date']).dayofweek"
   ]
  },
  {
   "cell_type": "code",
   "execution_count": 23,
   "id": "5229a4e1-e05e-4898-9e49-3e1fcc59e34a",
   "metadata": {},
   "outputs": [],
   "source": [
    "# creating order_weekday_str column from order_weekday, just retypes the 0 thru 6 code as an object for future\n",
    "# use as a categorical variable- \n",
    "df['order_weekday_str'] = df['order_weekday'].astype('object')"
   ]
  },
  {
   "cell_type": "code",
   "execution_count": 24,
   "id": "b1f18174-c35e-465b-b04a-38058bc52bfa",
   "metadata": {},
   "outputs": [],
   "source": [
    "# creating order_hour_str column from order_hour, just retypes the hour numeric values as an object for future\n",
    "# use as a categorical variable-\n",
    "df['order_hour_str'] = df['order_hour'].astype('object')"
   ]
  },
  {
   "cell_type": "code",
   "execution_count": 25,
   "id": "9e21ac3a-3550-4210-b4ed-7cf0e3ebf169",
   "metadata": {},
   "outputs": [
    {
     "name": "stdout",
     "output_type": "stream",
     "text": [
      "<class 'pandas.core.frame.DataFrame'>\n",
      "RangeIndex: 180519 entries, 0 to 180518\n",
      "Data columns (total 41 columns):\n",
      " #   Column                    Non-Null Count   Dtype         \n",
      "---  ------                    --------------   -----         \n",
      " 0   type                      180519 non-null  object        \n",
      " 1   actual_ship_days          180519 non-null  int64         \n",
      " 2   estimated_ship_days       180519 non-null  int64         \n",
      " 3   delivery_status           180519 non-null  object        \n",
      " 4   late_delivery_risk        180519 non-null  int64         \n",
      " 5   category_id               180519 non-null  int64         \n",
      " 6   category_name             180519 non-null  object        \n",
      " 7   customer_city             180519 non-null  object        \n",
      " 8   customer_id               180519 non-null  int64         \n",
      " 9   customer_segment          180519 non-null  object        \n",
      " 10  customer_state            180519 non-null  object        \n",
      " 11  customer_zipcode          180516 non-null  float64       \n",
      " 12  department_name           180519 non-null  object        \n",
      " 13  latitude                  180519 non-null  float64       \n",
      " 14  longitude                 180519 non-null  float64       \n",
      " 15  market                    180519 non-null  object        \n",
      " 16  order_city                180519 non-null  object        \n",
      " 17  order_country             180519 non-null  object        \n",
      " 18  order_date                180519 non-null  datetime64[ns]\n",
      " 19  order_id                  180519 non-null  int64         \n",
      " 20  order_item_discount_rate  180519 non-null  float64       \n",
      " 21  order_item_profit_ratio   180519 non-null  float64       \n",
      " 22  order_item_quantity       180519 non-null  int64         \n",
      " 23  order_region              180519 non-null  object        \n",
      " 24  order_state               180519 non-null  object        \n",
      " 25  order_status              180519 non-null  object        \n",
      " 26  product_card_id           180519 non-null  int64         \n",
      " 27  product_name              180519 non-null  object        \n",
      " 28  product_price             180519 non-null  float64       \n",
      " 29  shipping_date             180519 non-null  datetime64[ns]\n",
      " 30  shipping_mode             180519 non-null  object        \n",
      " 31  ship_performance          180519 non-null  int64         \n",
      " 32  ontime                    180519 non-null  int64         \n",
      " 33  is_fraud                  180519 non-null  int64         \n",
      " 34  order_hour                180519 non-null  int64         \n",
      " 35  order_before_noon         180519 non-null  int64         \n",
      " 36  order_month               180519 non-null  int64         \n",
      " 37  order_month_name          180519 non-null  object        \n",
      " 38  order_weekday             180519 non-null  int64         \n",
      " 39  order_weekday_str         180519 non-null  object        \n",
      " 40  order_hour_str            180519 non-null  object        \n",
      "dtypes: datetime64[ns](2), float64(6), int64(15), object(18)\n",
      "memory usage: 56.5+ MB\n"
     ]
    }
   ],
   "source": [
    "# checking that engineered features are displaying correctly\n",
    "df.info()"
   ]
  },
  {
   "cell_type": "code",
   "execution_count": 26,
   "id": "3bcd04ab-1ec5-4285-8791-70367f09855a",
   "metadata": {},
   "outputs": [],
   "source": [
    "# create clean CSV- \n",
    "df.to_csv('../data/ship_clean.csv', index = False)"
   ]
  }
 ],
 "metadata": {
  "kernelspec": {
   "display_name": "Python 3 (ipykernel)",
   "language": "python",
   "name": "python3"
  },
  "language_info": {
   "codemirror_mode": {
    "name": "ipython",
    "version": 3
   },
   "file_extension": ".py",
   "mimetype": "text/x-python",
   "name": "python",
   "nbconvert_exporter": "python",
   "pygments_lexer": "ipython3",
   "version": "3.9.7"
  }
 },
 "nbformat": 4,
 "nbformat_minor": 5
}
