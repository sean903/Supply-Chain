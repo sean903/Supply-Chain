{
 "cells": [
  {
   "cell_type": "markdown",
   "metadata": {},
   "source": [
    "# Data Modeling"
   ]
  },
  {
   "cell_type": "code",
   "execution_count": 1,
   "metadata": {},
   "outputs": [],
   "source": [
    "import pandas as pd\n",
    "import numpy as np\n",
    "import matplotlib.pyplot as plt\n",
    "import seaborn as sns\n",
    "import datetime as dt\n",
    "import category_encoders as ce\n",
    "import calendar\n",
    "import pickle\n",
    "\n",
    "from sklearn.compose import make_column_transformer, make_column_selector\n",
    "from sklearn.ensemble import GradientBoostingClassifier, RandomForestClassifier, ExtraTreesClassifier, AdaBoostClassifier\n",
    "from sklearn.linear_model import LogisticRegression \n",
    "from sklearn.metrics import balanced_accuracy_score, confusion_matrix, ConfusionMatrixDisplay, f1_score, precision_score, recall_score\n",
    "from sklearn.model_selection import train_test_split, GridSearchCV\n",
    "from sklearn.neighbors import KNeighborsClassifier\n",
    "from sklearn.pipeline import make_pipeline, Pipeline\n",
    "from sklearn.preprocessing import OneHotEncoder, StandardScaler\n",
    "from sklearn.tree import DecisionTreeClassifier\n",
    "\n",
    "import warnings\n",
    "warnings.filterwarnings(\"ignore\")"
   ]
  },
  {
   "cell_type": "code",
   "execution_count": 2,
   "metadata": {},
   "outputs": [],
   "source": [
    "df = pd.read_csv('../data/ship_clean.csv')"
   ]
  },
  {
   "cell_type": "code",
   "execution_count": 3,
   "metadata": {},
   "outputs": [
    {
     "name": "stdout",
     "output_type": "stream",
     "text": [
      "<class 'pandas.core.frame.DataFrame'>\n",
      "RangeIndex: 180519 entries, 0 to 180518\n",
      "Data columns (total 41 columns):\n",
      " #   Column                    Non-Null Count   Dtype  \n",
      "---  ------                    --------------   -----  \n",
      " 0   type                      180519 non-null  object \n",
      " 1   actual_ship_days          180519 non-null  int64  \n",
      " 2   estimated_ship_days       180519 non-null  int64  \n",
      " 3   delivery_status           180519 non-null  object \n",
      " 4   late_delivery_risk        180519 non-null  int64  \n",
      " 5   category_id               180519 non-null  int64  \n",
      " 6   category_name             180519 non-null  object \n",
      " 7   customer_city             180519 non-null  object \n",
      " 8   customer_id               180519 non-null  int64  \n",
      " 9   customer_segment          180519 non-null  object \n",
      " 10  customer_state            180519 non-null  object \n",
      " 11  customer_zipcode          180516 non-null  float64\n",
      " 12  department_name           180519 non-null  object \n",
      " 13  latitude                  180519 non-null  float64\n",
      " 14  longitude                 180519 non-null  float64\n",
      " 15  market                    180519 non-null  object \n",
      " 16  order_city                180519 non-null  object \n",
      " 17  order_country             180519 non-null  object \n",
      " 18  order_date                180519 non-null  object \n",
      " 19  order_id                  180519 non-null  int64  \n",
      " 20  order_item_discount_rate  180519 non-null  float64\n",
      " 21  order_item_profit_ratio   180519 non-null  float64\n",
      " 22  order_item_quantity       180519 non-null  int64  \n",
      " 23  order_region              180519 non-null  object \n",
      " 24  order_state               180519 non-null  object \n",
      " 25  order_status              180519 non-null  object \n",
      " 26  product_card_id           180519 non-null  int64  \n",
      " 27  product_name              180519 non-null  object \n",
      " 28  product_price             180519 non-null  float64\n",
      " 29  shipping_date             180519 non-null  object \n",
      " 30  shipping_mode             180519 non-null  object \n",
      " 31  ship_performance          180519 non-null  int64  \n",
      " 32  ontime                    180519 non-null  int64  \n",
      " 33  is_fraud                  180519 non-null  int64  \n",
      " 34  order_hour                180519 non-null  int64  \n",
      " 35  order_before_noon         180519 non-null  int64  \n",
      " 36  order_month               180519 non-null  int64  \n",
      " 37  order_month_name          180519 non-null  object \n",
      " 38  order_weekday             180519 non-null  int64  \n",
      " 39  order_weekday_str         180519 non-null  int64  \n",
      " 40  order_hour_str            180519 non-null  int64  \n",
      "dtypes: float64(6), int64(17), object(18)\n",
      "memory usage: 56.5+ MB\n"
     ]
    }
   ],
   "source": [
    "df.info()"
   ]
  },
  {
   "cell_type": "code",
   "execution_count": 4,
   "metadata": {},
   "outputs": [],
   "source": [
    "# I'm not sure why the types for the order_weekday_str and order_hour_str columns reverted from objects to ints\n",
    "# (these were set in the 01_data_cleaning ntbk as objects before being saved to csv), so for now just re-setting them-\n",
    "df['order_weekday_str'] = df['order_weekday_str'].astype('object')"
   ]
  },
  {
   "cell_type": "code",
   "execution_count": 5,
   "metadata": {},
   "outputs": [],
   "source": [
    "df['order_hour_str'] = df['order_hour_str'].astype('object')"
   ]
  },
  {
   "cell_type": "code",
   "execution_count": 6,
   "metadata": {},
   "outputs": [
    {
     "name": "stdout",
     "output_type": "stream",
     "text": [
      "<class 'pandas.core.frame.DataFrame'>\n",
      "RangeIndex: 180519 entries, 0 to 180518\n",
      "Data columns (total 41 columns):\n",
      " #   Column                    Non-Null Count   Dtype  \n",
      "---  ------                    --------------   -----  \n",
      " 0   type                      180519 non-null  object \n",
      " 1   actual_ship_days          180519 non-null  int64  \n",
      " 2   estimated_ship_days       180519 non-null  int64  \n",
      " 3   delivery_status           180519 non-null  object \n",
      " 4   late_delivery_risk        180519 non-null  int64  \n",
      " 5   category_id               180519 non-null  int64  \n",
      " 6   category_name             180519 non-null  object \n",
      " 7   customer_city             180519 non-null  object \n",
      " 8   customer_id               180519 non-null  int64  \n",
      " 9   customer_segment          180519 non-null  object \n",
      " 10  customer_state            180519 non-null  object \n",
      " 11  customer_zipcode          180516 non-null  float64\n",
      " 12  department_name           180519 non-null  object \n",
      " 13  latitude                  180519 non-null  float64\n",
      " 14  longitude                 180519 non-null  float64\n",
      " 15  market                    180519 non-null  object \n",
      " 16  order_city                180519 non-null  object \n",
      " 17  order_country             180519 non-null  object \n",
      " 18  order_date                180519 non-null  object \n",
      " 19  order_id                  180519 non-null  int64  \n",
      " 20  order_item_discount_rate  180519 non-null  float64\n",
      " 21  order_item_profit_ratio   180519 non-null  float64\n",
      " 22  order_item_quantity       180519 non-null  int64  \n",
      " 23  order_region              180519 non-null  object \n",
      " 24  order_state               180519 non-null  object \n",
      " 25  order_status              180519 non-null  object \n",
      " 26  product_card_id           180519 non-null  int64  \n",
      " 27  product_name              180519 non-null  object \n",
      " 28  product_price             180519 non-null  float64\n",
      " 29  shipping_date             180519 non-null  object \n",
      " 30  shipping_mode             180519 non-null  object \n",
      " 31  ship_performance          180519 non-null  int64  \n",
      " 32  ontime                    180519 non-null  int64  \n",
      " 33  is_fraud                  180519 non-null  int64  \n",
      " 34  order_hour                180519 non-null  int64  \n",
      " 35  order_before_noon         180519 non-null  int64  \n",
      " 36  order_month               180519 non-null  int64  \n",
      " 37  order_month_name          180519 non-null  object \n",
      " 38  order_weekday             180519 non-null  int64  \n",
      " 39  order_weekday_str         180519 non-null  object \n",
      " 40  order_hour_str            180519 non-null  object \n",
      "dtypes: float64(6), int64(15), object(20)\n",
      "memory usage: 56.5+ MB\n"
     ]
    }
   ],
   "source": [
    "df.info()"
   ]
  },
  {
   "cell_type": "code",
   "execution_count": 7,
   "metadata": {},
   "outputs": [],
   "source": [
    "# set y-\n",
    "\n",
    "y = df['ontime']"
   ]
  },
  {
   "cell_type": "code",
   "execution_count": 8,
   "metadata": {},
   "outputs": [
    {
     "data": {
      "text/plain": [
       "0    0.572793\n",
       "1    0.427207\n",
       "Name: ontime, dtype: float64"
      ]
     },
     "execution_count": 8,
     "metadata": {},
     "output_type": "execute_result"
    }
   ],
   "source": [
    "# get a baseline (57%)-\n",
    "\n",
    "y.value_counts(normalize=True)"
   ]
  },
  {
   "cell_type": "markdown",
   "metadata": {},
   "source": [
    "## Model 1:"
   ]
  },
  {
   "cell_type": "code",
   "execution_count": 9,
   "metadata": {},
   "outputs": [],
   "source": [
    "# drop categorical features with too many values to OHE-\n",
    "X = df.drop(columns=['category_name', 'customer_city', 'customer_state', 'order_city', 'order_country', 'order_state', 'product_name'])"
   ]
  },
  {
   "cell_type": "code",
   "execution_count": 10,
   "metadata": {},
   "outputs": [],
   "source": [
    "# drop target column (ontime) and any other correlated columns that can bias the model-\n",
    "X = X.drop(columns=['actual_ship_days', 'late_delivery_risk', 'delivery_status', 'order_status', 'ship_performance', 'ontime'])"
   ]
  },
  {
   "cell_type": "code",
   "execution_count": 11,
   "metadata": {},
   "outputs": [],
   "source": [
    "# X has features that are categorical variables (to OHE) extrapolated from order_date, so that column is no longer needed\n",
    "# shipping_date might bias the model, customer zipcode is too large to scale (throws an error) and is_fraud is an unnecessary\n",
    "# feature for this model, so I'm dropping all of these columns-\n",
    "# X = X.drop(columns=['shipping_date', 'order_date', 'customer_zipcode', 'is_fraud', 'order_month'])\n",
    "X = X.drop(columns=['shipping_date', 'order_date', 'customer_zipcode', 'is_fraud'])"
   ]
  },
  {
   "cell_type": "code",
   "execution_count": 12,
   "metadata": {},
   "outputs": [
    {
     "name": "stdout",
     "output_type": "stream",
     "text": [
      "<class 'pandas.core.frame.DataFrame'>\n",
      "RangeIndex: 180519 entries, 0 to 180518\n",
      "Data columns (total 24 columns):\n",
      " #   Column                    Non-Null Count   Dtype  \n",
      "---  ------                    --------------   -----  \n",
      " 0   type                      180519 non-null  object \n",
      " 1   estimated_ship_days       180519 non-null  int64  \n",
      " 2   category_id               180519 non-null  int64  \n",
      " 3   customer_id               180519 non-null  int64  \n",
      " 4   customer_segment          180519 non-null  object \n",
      " 5   department_name           180519 non-null  object \n",
      " 6   latitude                  180519 non-null  float64\n",
      " 7   longitude                 180519 non-null  float64\n",
      " 8   market                    180519 non-null  object \n",
      " 9   order_id                  180519 non-null  int64  \n",
      " 10  order_item_discount_rate  180519 non-null  float64\n",
      " 11  order_item_profit_ratio   180519 non-null  float64\n",
      " 12  order_item_quantity       180519 non-null  int64  \n",
      " 13  order_region              180519 non-null  object \n",
      " 14  product_card_id           180519 non-null  int64  \n",
      " 15  product_price             180519 non-null  float64\n",
      " 16  shipping_mode             180519 non-null  object \n",
      " 17  order_hour                180519 non-null  int64  \n",
      " 18  order_before_noon         180519 non-null  int64  \n",
      " 19  order_month               180519 non-null  int64  \n",
      " 20  order_month_name          180519 non-null  object \n",
      " 21  order_weekday             180519 non-null  int64  \n",
      " 22  order_weekday_str         180519 non-null  object \n",
      " 23  order_hour_str            180519 non-null  object \n",
      "dtypes: float64(5), int64(10), object(9)\n",
      "memory usage: 33.1+ MB\n"
     ]
    }
   ],
   "source": [
    "X.info()\n",
    "\n",
    "# I'm keeping both the order_hour and order_hour_str features in X, but order_hour_str is a categorical variable that will be\n",
    "# OHE while order_hour is just an int value. The same goes with order_weekday and order_weekday_str, and order_month and \n",
    "# order_month_name-"
   ]
  },
  {
   "cell_type": "code",
   "execution_count": 13,
   "metadata": {},
   "outputs": [],
   "source": [
    "# TTS-\n",
    "X_train, X_test, y_train, y_test = train_test_split(X, y, stratify=y)"
   ]
  },
  {
   "cell_type": "code",
   "execution_count": 14,
   "metadata": {},
   "outputs": [],
   "source": [
    "# initialize smart_encoder object to tranform object dtypes and skip numeric columns-\n",
    "smart_encoder = make_column_transformer(\n",
    "    (OneHotEncoder(sparse=False), make_column_selector(dtype_include=object)),\n",
    "    remainder = 'passthrough'\n",
    ")"
   ]
  },
  {
   "cell_type": "code",
   "execution_count": 15,
   "metadata": {},
   "outputs": [],
   "source": [
    "# OHE-\n",
    "X_train = smart_encoder.fit_transform(X_train)\n",
    "X_test = smart_encoder.transform(X_test)"
   ]
  },
  {
   "cell_type": "code",
   "execution_count": 16,
   "metadata": {},
   "outputs": [],
   "source": [
    "# smart_encoder.get_feature_names_out()"
   ]
  },
  {
   "cell_type": "code",
   "execution_count": 17,
   "metadata": {},
   "outputs": [],
   "source": [
    "# turn back into dfs-\n",
    "X_train = pd.DataFrame(X_train, columns=smart_encoder.get_feature_names_out())\n",
    "X_test = pd.DataFrame(X_test, columns=smart_encoder.get_feature_names_out())"
   ]
  },
  {
   "cell_type": "code",
   "execution_count": 18,
   "metadata": {},
   "outputs": [],
   "source": [
    "# scale-\n",
    "ss = StandardScaler()\n",
    "X_train_sc = ss.fit_transform(X_train)\n",
    "X_test_sc = ss.transform(X_test)"
   ]
  },
  {
   "cell_type": "code",
   "execution_count": 19,
   "metadata": {},
   "outputs": [],
   "source": [
    "# X_train_sc = pd.DataFrame(X_train_sc.toarray(), columns = smart_encoder.get_feature_names_out())"
   ]
  },
  {
   "cell_type": "code",
   "execution_count": 20,
   "metadata": {},
   "outputs": [],
   "source": [
    "# turn back into dfs-\n",
    "X_train_sc = pd.DataFrame(X_train_sc)\n",
    "X_test_sc = pd.DataFrame(X_test_sc)"
   ]
  },
  {
   "cell_type": "code",
   "execution_count": 21,
   "metadata": {},
   "outputs": [],
   "source": [
    "# X_train_sc = pd.DataFrame(X_train_sc, columns=smart_encoder.get_feature_names_out())\n",
    "# X_test_sc = pd.DataFrame(X_test_sc, columns=smart_encoder.get_feature_names_out())"
   ]
  },
  {
   "cell_type": "code",
   "execution_count": 22,
   "metadata": {},
   "outputs": [],
   "source": [
    "# define Rachael's function-\n",
    "\n",
    "def pipe(model):\n",
    "    #instantiate model\n",
    "    model = model()\n",
    "    #fit to scaled data\n",
    "    model.fit(X_train_sc, y_train)\n",
    "    \n",
    "    #make predictions\n",
    "    predictions = model.predict(X_test_sc)\n",
    "    #print accuracy scores for training and testing groups\n",
    "    print(f'{model} training score: {model.score(X_train_sc, y_train)}')\n",
    "    print(f'{model} testing score: {model.score(X_test_sc, y_test)}')\n",
    "    \n",
    "    return\n",
    "\n",
    "# from:\n",
    "# Rachael Friedman\n",
    "# https://towardsdatascience.com/how-to-make-your-modeling-process-more-efficient-89e70259839d"
   ]
  },
  {
   "cell_type": "code",
   "execution_count": 23,
   "metadata": {},
   "outputs": [
    {
     "name": "stdout",
     "output_type": "stream",
     "text": [
      "LogisticRegression() training score: 0.7166608808691991\n",
      "LogisticRegression() testing score: 0.7172834035009972\n"
     ]
    }
   ],
   "source": [
    "# run the models through the function-\n",
    "pipe(LogisticRegression)"
   ]
  },
  {
   "cell_type": "code",
   "execution_count": 24,
   "metadata": {},
   "outputs": [
    {
     "name": "stdout",
     "output_type": "stream",
     "text": [
      "DecisionTreeClassifier() training score: 1.0\n",
      "DecisionTreeClassifier() testing score: 0.9167294482605806\n"
     ]
    }
   ],
   "source": [
    "pipe(DecisionTreeClassifier)"
   ]
  },
  {
   "cell_type": "code",
   "execution_count": 25,
   "metadata": {},
   "outputs": [
    {
     "name": "stdout",
     "output_type": "stream",
     "text": [
      "RandomForestClassifier() training score: 1.0\n",
      "RandomForestClassifier() testing score: 0.8824728561932196\n"
     ]
    }
   ],
   "source": [
    "pipe(RandomForestClassifier)"
   ]
  },
  {
   "cell_type": "code",
   "execution_count": 26,
   "metadata": {},
   "outputs": [
    {
     "name": "stdout",
     "output_type": "stream",
     "text": [
      "ExtraTreesClassifier() training score: 1.0\n",
      "ExtraTreesClassifier() testing score: 0.9290937292266784\n"
     ]
    }
   ],
   "source": [
    "pipe(ExtraTreesClassifier)"
   ]
  },
  {
   "cell_type": "code",
   "execution_count": 27,
   "metadata": {},
   "outputs": [],
   "source": [
    "# dt = DecisionTreeClassifier()"
   ]
  },
  {
   "cell_type": "code",
   "execution_count": 28,
   "metadata": {},
   "outputs": [],
   "source": [
    "# dt.fit(X_train_sc, y_train)"
   ]
  },
  {
   "cell_type": "code",
   "execution_count": 29,
   "metadata": {},
   "outputs": [],
   "source": [
    "# dt.score(X_test_sc, y_test)"
   ]
  },
  {
   "cell_type": "code",
   "execution_count": 30,
   "metadata": {},
   "outputs": [],
   "source": [
    "etc = ExtraTreesClassifier()  "
   ]
  },
  {
   "cell_type": "code",
   "execution_count": 31,
   "metadata": {},
   "outputs": [
    {
     "data": {
      "text/plain": [
       "ExtraTreesClassifier()"
      ]
     },
     "execution_count": 31,
     "metadata": {},
     "output_type": "execute_result"
    }
   ],
   "source": [
    "etc.fit(X_train_sc, y_train)"
   ]
  },
  {
   "cell_type": "code",
   "execution_count": 32,
   "metadata": {},
   "outputs": [
    {
     "data": {
      "text/plain": [
       "0.928074451584312"
      ]
     },
     "execution_count": 32,
     "metadata": {},
     "output_type": "execute_result"
    }
   ],
   "source": [
    "etc.score(X_test_sc, y_test)"
   ]
  },
  {
   "cell_type": "code",
   "execution_count": 33,
   "metadata": {},
   "outputs": [],
   "source": [
    "etc_importances = etc.feature_importances_ "
   ]
  },
  {
   "cell_type": "code",
   "execution_count": 34,
   "metadata": {},
   "outputs": [],
   "source": [
    "# get feature names out\n",
    "features = smart_encoder.get_feature_names_out()"
   ]
  },
  {
   "cell_type": "code",
   "execution_count": 35,
   "metadata": {},
   "outputs": [],
   "source": [
    "etc_importances_df = pd.DataFrame({'feature': features, 'importance': etc_importances}).sort_values('importance', ascending = False)"
   ]
  },
  {
   "cell_type": "code",
   "execution_count": 36,
   "metadata": {},
   "outputs": [],
   "source": [
    "top_features = etc_importances_df[:15]"
   ]
  },
  {
   "cell_type": "code",
   "execution_count": 37,
   "metadata": {},
   "outputs": [
    {
     "data": {
      "text/html": [
       "<div>\n",
       "<style scoped>\n",
       "    .dataframe tbody tr th:only-of-type {\n",
       "        vertical-align: middle;\n",
       "    }\n",
       "\n",
       "    .dataframe tbody tr th {\n",
       "        vertical-align: top;\n",
       "    }\n",
       "\n",
       "    .dataframe thead th {\n",
       "        text-align: right;\n",
       "    }\n",
       "</style>\n",
       "<table border=\"1\" class=\"dataframe\">\n",
       "  <thead>\n",
       "    <tr style=\"text-align: right;\">\n",
       "      <th></th>\n",
       "      <th>feature</th>\n",
       "      <th>importance</th>\n",
       "    </tr>\n",
       "  </thead>\n",
       "  <tbody>\n",
       "    <tr>\n",
       "      <th>49</th>\n",
       "      <td>onehotencoder__shipping_mode_Standard Class</td>\n",
       "      <td>0.087975</td>\n",
       "    </tr>\n",
       "    <tr>\n",
       "      <th>93</th>\n",
       "      <td>remainder__estimated_ship_days</td>\n",
       "      <td>0.062322</td>\n",
       "    </tr>\n",
       "    <tr>\n",
       "      <th>46</th>\n",
       "      <td>onehotencoder__shipping_mode_First Class</td>\n",
       "      <td>0.058583</td>\n",
       "    </tr>\n",
       "    <tr>\n",
       "      <th>96</th>\n",
       "      <td>remainder__latitude</td>\n",
       "      <td>0.039169</td>\n",
       "    </tr>\n",
       "    <tr>\n",
       "      <th>95</th>\n",
       "      <td>remainder__customer_id</td>\n",
       "      <td>0.038972</td>\n",
       "    </tr>\n",
       "    <tr>\n",
       "      <th>97</th>\n",
       "      <td>remainder__longitude</td>\n",
       "      <td>0.038294</td>\n",
       "    </tr>\n",
       "    <tr>\n",
       "      <th>98</th>\n",
       "      <td>remainder__order_id</td>\n",
       "      <td>0.036205</td>\n",
       "    </tr>\n",
       "    <tr>\n",
       "      <th>48</th>\n",
       "      <td>onehotencoder__shipping_mode_Second Class</td>\n",
       "      <td>0.026652</td>\n",
       "    </tr>\n",
       "    <tr>\n",
       "      <th>104</th>\n",
       "      <td>remainder__order_hour</td>\n",
       "      <td>0.023899</td>\n",
       "    </tr>\n",
       "    <tr>\n",
       "      <th>100</th>\n",
       "      <td>remainder__order_item_profit_ratio</td>\n",
       "      <td>0.020943</td>\n",
       "    </tr>\n",
       "    <tr>\n",
       "      <th>99</th>\n",
       "      <td>remainder__order_item_discount_rate</td>\n",
       "      <td>0.020754</td>\n",
       "    </tr>\n",
       "    <tr>\n",
       "      <th>47</th>\n",
       "      <td>onehotencoder__shipping_mode_Same Day</td>\n",
       "      <td>0.020733</td>\n",
       "    </tr>\n",
       "    <tr>\n",
       "      <th>105</th>\n",
       "      <td>remainder__order_before_noon</td>\n",
       "      <td>0.019306</td>\n",
       "    </tr>\n",
       "    <tr>\n",
       "      <th>107</th>\n",
       "      <td>remainder__order_weekday</td>\n",
       "      <td>0.017757</td>\n",
       "    </tr>\n",
       "    <tr>\n",
       "      <th>106</th>\n",
       "      <td>remainder__order_month</td>\n",
       "      <td>0.016966</td>\n",
       "    </tr>\n",
       "  </tbody>\n",
       "</table>\n",
       "</div>"
      ],
      "text/plain": [
       "                                         feature  importance\n",
       "49   onehotencoder__shipping_mode_Standard Class    0.087975\n",
       "93                remainder__estimated_ship_days    0.062322\n",
       "46      onehotencoder__shipping_mode_First Class    0.058583\n",
       "96                           remainder__latitude    0.039169\n",
       "95                        remainder__customer_id    0.038972\n",
       "97                          remainder__longitude    0.038294\n",
       "98                           remainder__order_id    0.036205\n",
       "48     onehotencoder__shipping_mode_Second Class    0.026652\n",
       "104                        remainder__order_hour    0.023899\n",
       "100           remainder__order_item_profit_ratio    0.020943\n",
       "99           remainder__order_item_discount_rate    0.020754\n",
       "47         onehotencoder__shipping_mode_Same Day    0.020733\n",
       "105                 remainder__order_before_noon    0.019306\n",
       "107                     remainder__order_weekday    0.017757\n",
       "106                       remainder__order_month    0.016966"
      ]
     },
     "execution_count": 37,
     "metadata": {},
     "output_type": "execute_result"
    }
   ],
   "source": [
    "top_features"
   ]
  },
  {
   "cell_type": "code",
   "execution_count": 38,
   "metadata": {},
   "outputs": [],
   "source": [
    "# dt_importances = dt.feature_importances_   "
   ]
  },
  {
   "cell_type": "code",
   "execution_count": 39,
   "metadata": {},
   "outputs": [],
   "source": [
    "# features = X_train_sc.columns"
   ]
  },
  {
   "cell_type": "code",
   "execution_count": 40,
   "metadata": {},
   "outputs": [],
   "source": [
    "# dt_importances_df = pd.DataFrame({'feature': features, 'importance': dt_importances}).sort_values('importance', ascending = False)"
   ]
  },
  {
   "cell_type": "code",
   "execution_count": 41,
   "metadata": {},
   "outputs": [],
   "source": [
    "# dt_importances_df"
   ]
  },
  {
   "cell_type": "markdown",
   "metadata": {},
   "source": [
    "## Best Performing Model 1: Extra Trees Classifier => Test Accuracy 92.98%"
   ]
  },
  {
   "cell_type": "markdown",
   "metadata": {},
   "source": [
    "## Model 2:"
   ]
  },
  {
   "cell_type": "code",
   "execution_count": 42,
   "metadata": {},
   "outputs": [],
   "source": [
    "# just to make sure colinearity isn't an issue I'm trying again with a new X, this time dropping the numeric columns\n",
    "# order_hour, order_weekday and order_month; keeping the categorical/string versions order_hour_str, order_weekday_str\n",
    "# and order_month_name"
   ]
  },
  {
   "cell_type": "code",
   "execution_count": 43,
   "metadata": {},
   "outputs": [],
   "source": [
    "# drop categorical features with too many values to OHE-\n",
    "X = df.drop(columns=['category_name', 'customer_city', 'customer_state', 'order_city', 'order_country', 'order_state', 'product_name'])"
   ]
  },
  {
   "cell_type": "code",
   "execution_count": 44,
   "metadata": {},
   "outputs": [],
   "source": [
    "# drop target column (ontime) and any other correlated columns that can bias the model-\n",
    "X = X.drop(columns=['actual_ship_days', 'late_delivery_risk', 'delivery_status', 'order_status', 'ship_performance', 'ontime'])"
   ]
  },
  {
   "cell_type": "code",
   "execution_count": 45,
   "metadata": {},
   "outputs": [],
   "source": [
    "X = X.drop(columns=['shipping_date', 'order_date', 'customer_zipcode', 'is_fraud', 'order_hour', 'order_weekday', 'order_month'])"
   ]
  },
  {
   "cell_type": "code",
   "execution_count": 46,
   "metadata": {},
   "outputs": [
    {
     "name": "stdout",
     "output_type": "stream",
     "text": [
      "<class 'pandas.core.frame.DataFrame'>\n",
      "RangeIndex: 180519 entries, 0 to 180518\n",
      "Data columns (total 21 columns):\n",
      " #   Column                    Non-Null Count   Dtype  \n",
      "---  ------                    --------------   -----  \n",
      " 0   type                      180519 non-null  object \n",
      " 1   estimated_ship_days       180519 non-null  int64  \n",
      " 2   category_id               180519 non-null  int64  \n",
      " 3   customer_id               180519 non-null  int64  \n",
      " 4   customer_segment          180519 non-null  object \n",
      " 5   department_name           180519 non-null  object \n",
      " 6   latitude                  180519 non-null  float64\n",
      " 7   longitude                 180519 non-null  float64\n",
      " 8   market                    180519 non-null  object \n",
      " 9   order_id                  180519 non-null  int64  \n",
      " 10  order_item_discount_rate  180519 non-null  float64\n",
      " 11  order_item_profit_ratio   180519 non-null  float64\n",
      " 12  order_item_quantity       180519 non-null  int64  \n",
      " 13  order_region              180519 non-null  object \n",
      " 14  product_card_id           180519 non-null  int64  \n",
      " 15  product_price             180519 non-null  float64\n",
      " 16  shipping_mode             180519 non-null  object \n",
      " 17  order_before_noon         180519 non-null  int64  \n",
      " 18  order_month_name          180519 non-null  object \n",
      " 19  order_weekday_str         180519 non-null  object \n",
      " 20  order_hour_str            180519 non-null  object \n",
      "dtypes: float64(5), int64(7), object(9)\n",
      "memory usage: 28.9+ MB\n"
     ]
    }
   ],
   "source": [
    "X.info()"
   ]
  },
  {
   "cell_type": "code",
   "execution_count": 47,
   "metadata": {},
   "outputs": [
    {
     "data": {
      "text/html": [
       "<div>\n",
       "<style scoped>\n",
       "    .dataframe tbody tr th:only-of-type {\n",
       "        vertical-align: middle;\n",
       "    }\n",
       "\n",
       "    .dataframe tbody tr th {\n",
       "        vertical-align: top;\n",
       "    }\n",
       "\n",
       "    .dataframe thead th {\n",
       "        text-align: right;\n",
       "    }\n",
       "</style>\n",
       "<table border=\"1\" class=\"dataframe\">\n",
       "  <thead>\n",
       "    <tr style=\"text-align: right;\">\n",
       "      <th></th>\n",
       "      <th>type</th>\n",
       "      <th>estimated_ship_days</th>\n",
       "      <th>category_id</th>\n",
       "      <th>customer_id</th>\n",
       "      <th>customer_segment</th>\n",
       "      <th>department_name</th>\n",
       "      <th>latitude</th>\n",
       "      <th>longitude</th>\n",
       "      <th>market</th>\n",
       "      <th>order_id</th>\n",
       "      <th>...</th>\n",
       "      <th>order_item_profit_ratio</th>\n",
       "      <th>order_item_quantity</th>\n",
       "      <th>order_region</th>\n",
       "      <th>product_card_id</th>\n",
       "      <th>product_price</th>\n",
       "      <th>shipping_mode</th>\n",
       "      <th>order_before_noon</th>\n",
       "      <th>order_month_name</th>\n",
       "      <th>order_weekday_str</th>\n",
       "      <th>order_hour_str</th>\n",
       "    </tr>\n",
       "  </thead>\n",
       "  <tbody>\n",
       "    <tr>\n",
       "      <th>0</th>\n",
       "      <td>DEBIT</td>\n",
       "      <td>4</td>\n",
       "      <td>73</td>\n",
       "      <td>20755</td>\n",
       "      <td>Consumer</td>\n",
       "      <td>Fitness</td>\n",
       "      <td>18.251453</td>\n",
       "      <td>-66.037056</td>\n",
       "      <td>Pacific Asia</td>\n",
       "      <td>77202</td>\n",
       "      <td>...</td>\n",
       "      <td>0.29</td>\n",
       "      <td>1</td>\n",
       "      <td>Southeast Asia</td>\n",
       "      <td>1360</td>\n",
       "      <td>327.75</td>\n",
       "      <td>Standard Class</td>\n",
       "      <td>0</td>\n",
       "      <td>Jan</td>\n",
       "      <td>2</td>\n",
       "      <td>22</td>\n",
       "    </tr>\n",
       "    <tr>\n",
       "      <th>1</th>\n",
       "      <td>TRANSFER</td>\n",
       "      <td>4</td>\n",
       "      <td>73</td>\n",
       "      <td>19492</td>\n",
       "      <td>Consumer</td>\n",
       "      <td>Fitness</td>\n",
       "      <td>18.279451</td>\n",
       "      <td>-66.037064</td>\n",
       "      <td>Pacific Asia</td>\n",
       "      <td>75939</td>\n",
       "      <td>...</td>\n",
       "      <td>-0.80</td>\n",
       "      <td>1</td>\n",
       "      <td>South Asia</td>\n",
       "      <td>1360</td>\n",
       "      <td>327.75</td>\n",
       "      <td>Standard Class</td>\n",
       "      <td>0</td>\n",
       "      <td>Jan</td>\n",
       "      <td>5</td>\n",
       "      <td>12</td>\n",
       "    </tr>\n",
       "    <tr>\n",
       "      <th>2</th>\n",
       "      <td>CASH</td>\n",
       "      <td>4</td>\n",
       "      <td>73</td>\n",
       "      <td>19491</td>\n",
       "      <td>Consumer</td>\n",
       "      <td>Fitness</td>\n",
       "      <td>37.292233</td>\n",
       "      <td>-121.881279</td>\n",
       "      <td>Pacific Asia</td>\n",
       "      <td>75938</td>\n",
       "      <td>...</td>\n",
       "      <td>-0.80</td>\n",
       "      <td>1</td>\n",
       "      <td>South Asia</td>\n",
       "      <td>1360</td>\n",
       "      <td>327.75</td>\n",
       "      <td>Standard Class</td>\n",
       "      <td>0</td>\n",
       "      <td>Jan</td>\n",
       "      <td>5</td>\n",
       "      <td>12</td>\n",
       "    </tr>\n",
       "    <tr>\n",
       "      <th>3</th>\n",
       "      <td>DEBIT</td>\n",
       "      <td>4</td>\n",
       "      <td>73</td>\n",
       "      <td>19490</td>\n",
       "      <td>Home Office</td>\n",
       "      <td>Fitness</td>\n",
       "      <td>34.125946</td>\n",
       "      <td>-118.291016</td>\n",
       "      <td>Pacific Asia</td>\n",
       "      <td>75937</td>\n",
       "      <td>...</td>\n",
       "      <td>0.08</td>\n",
       "      <td>1</td>\n",
       "      <td>Oceania</td>\n",
       "      <td>1360</td>\n",
       "      <td>327.75</td>\n",
       "      <td>Standard Class</td>\n",
       "      <td>1</td>\n",
       "      <td>Jan</td>\n",
       "      <td>5</td>\n",
       "      <td>11</td>\n",
       "    </tr>\n",
       "    <tr>\n",
       "      <th>4</th>\n",
       "      <td>PAYMENT</td>\n",
       "      <td>4</td>\n",
       "      <td>73</td>\n",
       "      <td>19489</td>\n",
       "      <td>Corporate</td>\n",
       "      <td>Fitness</td>\n",
       "      <td>18.253769</td>\n",
       "      <td>-66.037048</td>\n",
       "      <td>Pacific Asia</td>\n",
       "      <td>75936</td>\n",
       "      <td>...</td>\n",
       "      <td>0.45</td>\n",
       "      <td>1</td>\n",
       "      <td>Oceania</td>\n",
       "      <td>1360</td>\n",
       "      <td>327.75</td>\n",
       "      <td>Standard Class</td>\n",
       "      <td>1</td>\n",
       "      <td>Jan</td>\n",
       "      <td>5</td>\n",
       "      <td>11</td>\n",
       "    </tr>\n",
       "  </tbody>\n",
       "</table>\n",
       "<p>5 rows × 21 columns</p>\n",
       "</div>"
      ],
      "text/plain": [
       "       type  estimated_ship_days  category_id  customer_id customer_segment  \\\n",
       "0     DEBIT                    4           73        20755         Consumer   \n",
       "1  TRANSFER                    4           73        19492         Consumer   \n",
       "2      CASH                    4           73        19491         Consumer   \n",
       "3     DEBIT                    4           73        19490      Home Office   \n",
       "4   PAYMENT                    4           73        19489        Corporate   \n",
       "\n",
       "  department_name   latitude   longitude        market  order_id  ...  \\\n",
       "0         Fitness  18.251453  -66.037056  Pacific Asia     77202  ...   \n",
       "1         Fitness  18.279451  -66.037064  Pacific Asia     75939  ...   \n",
       "2         Fitness  37.292233 -121.881279  Pacific Asia     75938  ...   \n",
       "3         Fitness  34.125946 -118.291016  Pacific Asia     75937  ...   \n",
       "4         Fitness  18.253769  -66.037048  Pacific Asia     75936  ...   \n",
       "\n",
       "   order_item_profit_ratio  order_item_quantity    order_region  \\\n",
       "0                     0.29                    1  Southeast Asia   \n",
       "1                    -0.80                    1      South Asia   \n",
       "2                    -0.80                    1      South Asia   \n",
       "3                     0.08                    1         Oceania   \n",
       "4                     0.45                    1         Oceania   \n",
       "\n",
       "  product_card_id  product_price   shipping_mode order_before_noon  \\\n",
       "0            1360         327.75  Standard Class                 0   \n",
       "1            1360         327.75  Standard Class                 0   \n",
       "2            1360         327.75  Standard Class                 0   \n",
       "3            1360         327.75  Standard Class                 1   \n",
       "4            1360         327.75  Standard Class                 1   \n",
       "\n",
       "   order_month_name order_weekday_str order_hour_str  \n",
       "0               Jan                 2             22  \n",
       "1               Jan                 5             12  \n",
       "2               Jan                 5             12  \n",
       "3               Jan                 5             11  \n",
       "4               Jan                 5             11  \n",
       "\n",
       "[5 rows x 21 columns]"
      ]
     },
     "execution_count": 47,
     "metadata": {},
     "output_type": "execute_result"
    }
   ],
   "source": [
    "X.head()"
   ]
  },
  {
   "cell_type": "code",
   "execution_count": 48,
   "metadata": {},
   "outputs": [],
   "source": [
    "X_train, X_test, y_train, y_test = train_test_split(X, y, stratify=y)"
   ]
  },
  {
   "cell_type": "code",
   "execution_count": 49,
   "metadata": {},
   "outputs": [],
   "source": [
    "smart_encoder = make_column_transformer(\n",
    "    (OneHotEncoder(sparse=False), make_column_selector(dtype_include=object)),\n",
    "    remainder = 'passthrough'\n",
    ")"
   ]
  },
  {
   "cell_type": "code",
   "execution_count": 50,
   "metadata": {},
   "outputs": [],
   "source": [
    "X_train = smart_encoder.fit_transform(X_train)\n",
    "X_test = smart_encoder.transform(X_test)"
   ]
  },
  {
   "cell_type": "code",
   "execution_count": 51,
   "metadata": {},
   "outputs": [],
   "source": [
    "X_train_sc = ss.fit_transform(X_train)\n",
    "X_test_sc = ss.transform(X_test)"
   ]
  },
  {
   "cell_type": "code",
   "execution_count": 52,
   "metadata": {},
   "outputs": [],
   "source": [
    "# turn back into dfs-\n",
    "X_train_sc = pd.DataFrame(X_train_sc)\n",
    "X_test_sc = pd.DataFrame(X_test_sc)"
   ]
  },
  {
   "cell_type": "code",
   "execution_count": 53,
   "metadata": {},
   "outputs": [
    {
     "name": "stdout",
     "output_type": "stream",
     "text": [
      "LogisticRegression() training score: 0.7200289536077524\n",
      "LogisticRegression() testing score: 0.7193219587857301\n"
     ]
    }
   ],
   "source": [
    "pipe(LogisticRegression)"
   ]
  },
  {
   "cell_type": "code",
   "execution_count": 54,
   "metadata": {},
   "outputs": [
    {
     "name": "stdout",
     "output_type": "stream",
     "text": [
      "DecisionTreeClassifier() training score: 1.0\n",
      "DecisionTreeClassifier() testing score: 0.9142920452027476\n"
     ]
    }
   ],
   "source": [
    "pipe(DecisionTreeClassifier)  "
   ]
  },
  {
   "cell_type": "code",
   "execution_count": 55,
   "metadata": {},
   "outputs": [
    {
     "name": "stdout",
     "output_type": "stream",
     "text": [
      "ExtraTreesClassifier() training score: 1.0\n",
      "ExtraTreesClassifier() testing score: 0.9227121648570795\n"
     ]
    }
   ],
   "source": [
    "pipe(ExtraTreesClassifier)"
   ]
  },
  {
   "cell_type": "code",
   "execution_count": 56,
   "metadata": {},
   "outputs": [],
   "source": [
    "# so not much of a difference, still good scores"
   ]
  },
  {
   "cell_type": "markdown",
   "metadata": {},
   "source": [
    "## Best Performing Model 2: Extra Trees Classifier => Test Accuracy 92.36%"
   ]
  },
  {
   "cell_type": "code",
   "execution_count": 57,
   "metadata": {},
   "outputs": [],
   "source": [
    "# pickle and export-\n",
    "# with open('./models/extra_trees_best.pkl', 'wb') as pickle_out:\n",
    "#     pickle_out = pickle.dump(etc2, pickle_out)"
   ]
  },
  {
   "cell_type": "code",
   "execution_count": 58,
   "metadata": {},
   "outputs": [],
   "source": [
    "# turn back into dfs-\n",
    "X_train_sc = pd.DataFrame(X_train_sc)\n",
    "X_test_sc = pd.DataFrame(X_test_sc)"
   ]
  },
  {
   "cell_type": "code",
   "execution_count": 59,
   "metadata": {},
   "outputs": [],
   "source": [
    "etc2 = ExtraTreesClassifier()"
   ]
  },
  {
   "cell_type": "code",
   "execution_count": 60,
   "metadata": {},
   "outputs": [
    {
     "data": {
      "text/plain": [
       "ExtraTreesClassifier()"
      ]
     },
     "execution_count": 60,
     "metadata": {},
     "output_type": "execute_result"
    }
   ],
   "source": [
    "etc2.fit(X_train_sc, y_train)"
   ]
  },
  {
   "cell_type": "code",
   "execution_count": 61,
   "metadata": {},
   "outputs": [
    {
     "data": {
      "text/plain": [
       "0.9192333259472635"
      ]
     },
     "execution_count": 61,
     "metadata": {},
     "output_type": "execute_result"
    }
   ],
   "source": [
    "etc2.score(X_test_sc, y_test)"
   ]
  },
  {
   "cell_type": "code",
   "execution_count": 62,
   "metadata": {},
   "outputs": [],
   "source": [
    "# pickle and export-\n",
    "# with open('./models/extra_trees_demo.pkl', 'wb') as pickle_out:\n",
    "#     pickle_out = pickle.dump(etc2, pickle_out)"
   ]
  },
  {
   "cell_type": "code",
   "execution_count": null,
   "metadata": {},
   "outputs": [],
   "source": []
  },
  {
   "cell_type": "code",
   "execution_count": null,
   "metadata": {},
   "outputs": [],
   "source": []
  }
 ],
 "metadata": {
  "kernelspec": {
   "display_name": "Python 3 (ipykernel)",
   "language": "python",
   "name": "python3"
  },
  "language_info": {
   "codemirror_mode": {
    "name": "ipython",
    "version": 3
   },
   "file_extension": ".py",
   "mimetype": "text/x-python",
   "name": "python",
   "nbconvert_exporter": "python",
   "pygments_lexer": "ipython3",
   "version": "3.9.7"
  }
 },
 "nbformat": 4,
 "nbformat_minor": 4
}
